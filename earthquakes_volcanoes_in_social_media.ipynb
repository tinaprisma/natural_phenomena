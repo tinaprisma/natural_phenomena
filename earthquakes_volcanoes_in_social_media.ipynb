{
 "cells": [
  {
   "cell_type": "markdown",
   "metadata": {},
   "source": [
    "# Earthquakes and Volcanoes in Social Media"
   ]
  },
  {
   "cell_type": "markdown",
   "metadata": {},
   "source": [
    "The purpose of this project is to extract individual stories about natural phenomena around the world."
   ]
  },
  {
   "cell_type": "markdown",
   "metadata": {},
   "source": [
    "### Twitter API"
   ]
  },
  {
   "cell_type": "markdown",
   "metadata": {},
   "source": [
    "Twitter provides a search utility that enables developers to find tweets about precise subjects.\n",
    "\n",
    "This website has some good tips:\n",
    "https://www.earthdatascience.org/courses/earth-analytics-python/using-apis-natural-language-processing-twitter/get-and-use-twitter-data-in-python/\n",
    "    "
   ]
  },
  {
   "cell_type": "code",
   "execution_count": 17,
   "metadata": {},
   "outputs": [],
   "source": [
    "# Import necessary libraries and install tweepy\n",
    "#!pip install tweepy\n",
    "import tweepy\n",
    "import operator \n",
    "import json\n",
    "from collections import Counter\n",
    "import pandas as pd\n",
    "from nltk import bigrams\n"
   ]
  },
  {
   "cell_type": "code",
   "execution_count": 83,
   "metadata": {},
   "outputs": [],
   "source": [
    "# Create a class for formatting text output.\n",
    "class color:\n",
    "   PURPLE = '\\033[95m'\n",
    "   CYAN = '\\033[96m'\n",
    "   DARKCYAN = '\\033[36m'\n",
    "   BLUE = '\\033[94m'\n",
    "   GREEN = '\\033[92m'\n",
    "   YELLOW = '\\033[93m'\n",
    "   RED = '\\033[91m'\n",
    "   BOLD = '\\033[1m'\n",
    "   UNDERLINE = '\\033[4m'\n",
    "   END = '\\033[0m'"
   ]
  },
  {
   "cell_type": "code",
   "execution_count": 84,
   "metadata": {},
   "outputs": [],
   "source": [
    "# Secret info\n",
    "consumer_key = '2dVrc2vC4phhoSx7EeKLu0DOj' \n",
    "consumer_secret = 'ZMvfd71lcLLtS9pj3KG9ZIB186BWITufhFXUudeqsg8jFMNsY8'\n",
    "access_token = '946272380971864064-KFoi2F1wyf0vqTik69xkp93tYvxqE34'\n",
    "access_token_secret = 'xhQ4wTmRzZQM1cyI8Y0LaWEYRKE0mNt3hccKTqVxKJ5Mf' "
   ]
  },
  {
   "cell_type": "code",
   "execution_count": 85,
   "metadata": {},
   "outputs": [],
   "source": [
    "# Create the tweepy authentication object with consumer key and secret\n",
    "auth = tweepy.OAuthHandler(consumer_key, consumer_secret)\n",
    "# Setting your access token and secret\n",
    "auth.set_access_token(access_token, access_token_secret)\n",
    "# Creating the API object while passing in auth information\n",
    "api = tweepy.API(auth)"
   ]
  },
  {
   "cell_type": "markdown",
   "metadata": {},
   "source": [
    "## Earthquake Tweets"
   ]
  },
  {
   "cell_type": "markdown",
   "metadata": {},
   "source": [
    "Let's extract tweets about earthquakes!"
   ]
  },
  {
   "cell_type": "code",
   "execution_count": 92,
   "metadata": {},
   "outputs": [
    {
     "name": "stdout",
     "output_type": "stream",
     "text": [
      "\u001b[1mJP Garofalo tweets: \u001b[0mRT @RickyRayinGA: @ananavarro I think Mother Nature must hate Liberal's! California had an earthquake. Caused by the crowd size in D.C. Sup…\n",
      "User description: visionary, renaissance  family man,  jovial, love laughing and having fun.\n",
      "\u001b[1mtonielepore tweets: \u001b[0mRT @zomo_abd: My dads liquor store in Ridgecrest (11 miles from the earthquake) 🥴 https://t.co/4RC0mY3eha\n",
      "User description: ✨ Use my discount code “ LEPORE15 “ @brumont_london on entire purchase!\n",
      "\u001b[1mDaphne tweets: \u001b[0mRT @AdultishRalfino: Nobody:\n",
      "\n",
      "Me: Practicing my earthquake shimmy shimmy for when the BIG ONE hits like #anotherearthquake https://t.co/m0Q…\n",
      "User description: |18| San Diego 🌴\n",
      "\u001b[1m¢yn tweets: \u001b[0mThere was another earthquake ? Lmfaoo\n",
      "User description: big wide world 🗺\n",
      "\u001b[1mdiego.exe tweets: \u001b[0mRT @_SrPelo_: California: OMG AN EARTHQUAKE AAHH! \n",
      "Chile: https://t.co/tQJeVokMK9\n",
      "User description: ;^;)b     ♥️♥️♥️♥️\n"
     ]
    }
   ],
   "source": [
    "# this extracts tweets with the keyword 'earthquake'\n",
    "quake_tweets = tweepy.Cursor(api.search, q='earthquake', lang=\"en\").items(5)\n",
    "for tweet in quake_tweets:\n",
    "    print(color.BOLD + tweet.user.name  + ' tweets: ' + color.END + tweet.text)\n",
    "    print('User description: ' + tweet.user.description)"
   ]
  },
  {
   "cell_type": "markdown",
   "metadata": {},
   "source": [
    "## Volcano Tweets"
   ]
  },
  {
   "cell_type": "markdown",
   "metadata": {},
   "source": [
    "Let's extract tweets about earthquakes!"
   ]
  },
  {
   "cell_type": "code",
   "execution_count": 87,
   "metadata": {},
   "outputs": [
    {
     "name": "stdout",
     "output_type": "stream",
     "text": [
      "\u001b[1mValue Bjan tweets: \u001b[0mMongraal: All the bots are going to be at the volcano because they think it’s fun\n",
      "\u001b[1mfelinecannonball tweets: \u001b[0mRT @CPPGeophysics: Birth of a baby volcano: before and after bathymetry maps of Mayotte https://t.co/o7KmcRWyRL\n",
      "\u001b[1mJason McNie tweets: \u001b[0mRT @Livestormchaser: Watch what happens... \n",
      "Stromboli volcano eruption caught on camera! \n",
      "\n",
      "Permission: Enrico Zanella\n",
      "@WeatherBug https://t…\n",
      "\u001b[1mRog Tallbloke 🇬🇧➡️ tweets: \u001b[0mRT @Livestormchaser: Watch what happens... \n",
      "Stromboli volcano eruption caught on camera! \n",
      "\n",
      "Permission: Enrico Zanella\n",
      "@WeatherBug https://t…\n",
      "\u001b[1mEric Fielding tweets: \u001b[0mRT @CPPGeophysics: Birth of a baby volcano: before and after bathymetry maps of Mayotte https://t.co/o7KmcRWyRL\n"
     ]
    }
   ],
   "source": [
    "volcano_tweets = tweepy.Cursor(api.search, q='volcano', lang=\"en\").items(5)\n",
    "for tweet in volcano_tweets:\n",
    "    print(color.BOLD + tweet.user.name  + ' tweets: ' + color.END + tweet.text)  "
   ]
  },
  {
   "cell_type": "code",
   "execution_count": null,
   "metadata": {},
   "outputs": [],
   "source": []
  }
 ],
 "metadata": {
  "kernelspec": {
   "display_name": "Python 3",
   "language": "python",
   "name": "python3"
  },
  "language_info": {
   "codemirror_mode": {
    "name": "ipython",
    "version": 3
   },
   "file_extension": ".py",
   "mimetype": "text/x-python",
   "name": "python",
   "nbconvert_exporter": "python",
   "pygments_lexer": "ipython3",
   "version": "3.6.6"
  }
 },
 "nbformat": 4,
 "nbformat_minor": 2
}
